{
 "cells": [
  {
   "cell_type": "code",
   "execution_count": 1,
   "id": "d6fc21b1",
   "metadata": {},
   "outputs": [
    {
     "name": "stdout",
     "output_type": "stream",
     "text": [
      "List Example:\n",
      "First element: 10\n",
      "Third element: 30\n",
      "Last element: 50\n",
      "\n",
      "Tuple Example:\n",
      "Second element: banana\n",
      "Fourth element: date\n",
      "Last element: elderberry\n",
      "\n",
      "Dictionary Example:\n",
      "Value for 'name': Alice\n",
      "Value for 'city': New York\n",
      "Value for 'job': Engineer\n"
     ]
    }
   ],
   "source": [
    "my_list = [10, 20, 30, 40, 50]\n",
    "\n",
    "print(\"List Example:\")\n",
    "print(\"First element:\", my_list[0]) \n",
    "print(\"Third element:\", my_list[2])  \n",
    "print(\"Last element:\", my_list[-1]) \n",
    "\n",
    "my_tuple = (\"apple\", \"banana\", \"cherry\", \"date\", \"elderberry\")\n",
    "\n",
    "print(\"\\nTuple Example:\")\n",
    "print(\"Second element:\", my_tuple[1])  \n",
    "print(\"Fourth element:\", my_tuple[3])  \n",
    "print(\"Last element:\", my_tuple[-1])  \n",
    "\n",
    "my_dict = {\n",
    "    \"name\": \"Alice\",\n",
    "    \"age\": 25,\n",
    "    \"city\": \"New York\",\n",
    "    \"country\": \"USA\",\n",
    "    \"job\": \"Engineer\"\n",
    "}\n",
    "\n",
    "print(\"\\nDictionary Example:\")\n",
    "print(\"Value for 'name':\", my_dict[\"name\"])       \n",
    "print(\"Value for 'city':\", my_dict[\"city\"])       \n",
    "print(\"Value for 'job':\", my_dict[\"job\"])        \n"
   ]
  },
  {
   "cell_type": "code",
   "execution_count": null,
   "id": "a4da440d",
   "metadata": {},
   "outputs": [],
   "source": []
  }
 ],
 "metadata": {
  "kernelspec": {
   "display_name": "Python 3 (ipykernel)",
   "language": "python",
   "name": "python3"
  },
  "language_info": {
   "codemirror_mode": {
    "name": "ipython",
    "version": 3
   },
   "file_extension": ".py",
   "mimetype": "text/x-python",
   "name": "python",
   "nbconvert_exporter": "python",
   "pygments_lexer": "ipython3",
   "version": "3.11.4"
  }
 },
 "nbformat": 4,
 "nbformat_minor": 5
}
