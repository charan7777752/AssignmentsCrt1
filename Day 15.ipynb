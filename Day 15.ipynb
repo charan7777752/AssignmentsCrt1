{
 "cells": [
  {
   "cell_type": "code",
   "execution_count": 1,
   "id": "dc4f759f",
   "metadata": {},
   "outputs": [
    {
     "name": "stdout",
     "output_type": "stream",
     "text": [
      "Extracted Email Addresses: ['support@example.com', 'sales@example.org']\n"
     ]
    }
   ],
   "source": [
    "import re\n",
    "\n",
    "def extract_emails(text):\n",
    "    \"\"\"\n",
    "    Extracts all email addresses from the input text using regular expressions.\n",
    "    \n",
    "    Args:\n",
    "        text (str): The input text from which email addresses will be extracted.\n",
    "        \n",
    "    Returns:\n",
    "        list: A list of email addresses found in the text.\n",
    "    \"\"\"\n",
    "    email_pattern = r'[a-zA-Z0-9._%+-]+@[a-zA-Z0-9.-]+\\.[a-zA-Z]{2,}'\n",
    "    \n",
    "    emails = re.findall(email_pattern, text)\n",
    "    \n",
    "    return emails\n",
    "\n",
    "input_text = 'Contact us at support@example.com and sales@example.org.'\n",
    "extracted_emails = extract_emails(input_text)\n",
    "\n",
    "print(\"Extracted Email Addresses:\", extracted_emails)\n"
   ]
  },
  {
   "cell_type": "code",
   "execution_count": null,
   "id": "8e22fd59",
   "metadata": {},
   "outputs": [],
   "source": []
  }
 ],
 "metadata": {
  "kernelspec": {
   "display_name": "Python 3 (ipykernel)",
   "language": "python",
   "name": "python3"
  },
  "language_info": {
   "codemirror_mode": {
    "name": "ipython",
    "version": 3
   },
   "file_extension": ".py",
   "mimetype": "text/x-python",
   "name": "python",
   "nbconvert_exporter": "python",
   "pygments_lexer": "ipython3",
   "version": "3.11.4"
  }
 },
 "nbformat": 4,
 "nbformat_minor": 5
}
