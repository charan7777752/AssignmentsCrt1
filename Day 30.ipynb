{
 "cells": [
  {
   "cell_type": "code",
   "execution_count": 1,
   "id": "1c54d410",
   "metadata": {},
   "outputs": [
    {
     "name": "stdout",
     "output_type": "stream",
     "text": [
      "Requirement already satisfied: textblob in c:\\users\\bobby\\anaconda3\\lib\\site-packages (0.19.0)\n",
      "Requirement already satisfied: nltk>=3.9 in c:\\users\\bobby\\anaconda3\\lib\\site-packages (from textblob) (3.9.1)\n",
      "Requirement already satisfied: click in c:\\users\\bobby\\anaconda3\\lib\\site-packages (from nltk>=3.9->textblob) (8.0.4)\n",
      "Requirement already satisfied: joblib in c:\\users\\bobby\\anaconda3\\lib\\site-packages (from nltk>=3.9->textblob) (1.2.0)\n",
      "Requirement already satisfied: regex>=2021.8.3 in c:\\users\\bobby\\anaconda3\\lib\\site-packages (from nltk>=3.9->textblob) (2022.7.9)\n",
      "Requirement already satisfied: tqdm in c:\\users\\bobby\\anaconda3\\lib\\site-packages (from nltk>=3.9->textblob) (4.67.1)\n",
      "Requirement already satisfied: colorama in c:\\users\\bobby\\anaconda3\\lib\\site-packages (from click->nltk>=3.9->textblob) (0.4.6)\n",
      "Note: you may need to restart the kernel to use updated packages.\n"
     ]
    }
   ],
   "source": [
    "pip install textblob\n"
   ]
  },
  {
   "cell_type": "code",
   "execution_count": 2,
   "id": "0dc70d52",
   "metadata": {},
   "outputs": [
    {
     "name": "stdout",
     "output_type": "stream",
     "text": [
      "Sentiment: Positive\n"
     ]
    }
   ],
   "source": [
    "from textblob import TextBlob\n",
    "\n",
    "def perform_sentiment_analysis(text):\n",
    "    \"\"\"\n",
    "    Performs sentiment analysis on the input text and displays whether the sentiment is positive, negative, or neutral.\n",
    "    \n",
    "    Args:\n",
    "        text (str): The input text to analyze.\n",
    "        \n",
    "    Returns:\n",
    "        None\n",
    "    \"\"\"\n",
    "    # Create a TextBlob object\n",
    "    blob = TextBlob(text)\n",
    "    \n",
    "    # Get the sentiment polarity\n",
    "    polarity = blob.sentiment.polarity\n",
    "    \n",
    "    # Display sentiment based on polarity\n",
    "    if polarity > 0:\n",
    "        print(\"Sentiment: Positive\")\n",
    "    elif polarity < 0:\n",
    "        print(\"Sentiment: Negative\")\n",
    "    else:\n",
    "        print(\"Sentiment: Neutral\")\n",
    "\n",
    "# Test the function with a sample text\n",
    "text = \"I love this product! It works amazingly well.\"\n",
    "perform_sentiment_analysis(text)\n"
   ]
  },
  {
   "cell_type": "code",
   "execution_count": null,
   "id": "1bd374ca",
   "metadata": {},
   "outputs": [],
   "source": []
  }
 ],
 "metadata": {
  "kernelspec": {
   "display_name": "Python 3 (ipykernel)",
   "language": "python",
   "name": "python3"
  },
  "language_info": {
   "codemirror_mode": {
    "name": "ipython",
    "version": 3
   },
   "file_extension": ".py",
   "mimetype": "text/x-python",
   "name": "python",
   "nbconvert_exporter": "python",
   "pygments_lexer": "ipython3",
   "version": "3.11.4"
  }
 },
 "nbformat": 4,
 "nbformat_minor": 5
}
