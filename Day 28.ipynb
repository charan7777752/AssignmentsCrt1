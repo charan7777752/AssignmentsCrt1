{
 "cells": [
  {
   "cell_type": "code",
   "execution_count": 1,
   "id": "91234d87",
   "metadata": {},
   "outputs": [
    {
     "name": "stdout",
     "output_type": "stream",
     "text": [
      "Named Entities, Phrases, and Concepts:\n",
      "Apple (ORG)\n",
      "New York (GPE)\n",
      "15th July 2023 (DATE)\n",
      "Tim Cook (PERSON)\n",
      "yesterday (DATE)\n"
     ]
    }
   ],
   "source": [
    "import spacy\n",
    "\n",
    "# Load spaCy's English model\n",
    "nlp = spacy.load(\"en_core_web_sm\")\n",
    "\n",
    "def perform_ner(text):\n",
    "    \"\"\"\n",
    "    Performs Named Entity Recognition (NER) on the input text and prints the entities and their types.\n",
    "    \n",
    "    Args:\n",
    "        text (str): The input text to process.\n",
    "        \n",
    "    Returns:\n",
    "        None\n",
    "    \"\"\"\n",
    "    # Process the text with spaCy\n",
    "    doc = nlp(text)\n",
    "    \n",
    "    # Iterate through the recognized entities\n",
    "    print(\"Named Entities, Phrases, and Concepts:\")\n",
    "    for ent in doc.ents:\n",
    "        print(f\"{ent.text} ({ent.label_})\")\n",
    "\n",
    "# Test the function with a sample text\n",
    "text = \"Apple is planning to open a new store in New York on 15th July 2023. \" \\\n",
    "        \"Tim Cook, the CEO, announced the news yesterday.\"\n",
    "\n",
    "perform_ner(text)\n"
   ]
  },
  {
   "cell_type": "code",
   "execution_count": null,
   "id": "04ef6a68",
   "metadata": {},
   "outputs": [],
   "source": []
  }
 ],
 "metadata": {
  "kernelspec": {
   "display_name": "Python 3 (ipykernel)",
   "language": "python",
   "name": "python3"
  },
  "language_info": {
   "codemirror_mode": {
    "name": "ipython",
    "version": 3
   },
   "file_extension": ".py",
   "mimetype": "text/x-python",
   "name": "python",
   "nbconvert_exporter": "python",
   "pygments_lexer": "ipython3",
   "version": "3.11.4"
  }
 },
 "nbformat": 4,
 "nbformat_minor": 5
}
