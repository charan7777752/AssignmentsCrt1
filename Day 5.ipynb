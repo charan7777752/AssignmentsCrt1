{
 "cells": [
  {
   "cell_type": "code",
   "execution_count": 1,
   "id": "fc89be6a",
   "metadata": {},
   "outputs": [
    {
     "name": "stdout",
     "output_type": "stream",
     "text": [
      "Enter a text: abcd\n",
      "\n",
      "Word Frequencies:\n",
      "abcd: 1\n"
     ]
    }
   ],
   "source": [
    "text = input(\"Enter a text: \")\n",
    "\n",
    "words = text.split()\n",
    "\n",
    "word_frequency = {}\n",
    "\n",
    "for word in words:\n",
    "    word = word.lower()  \n",
    "    word_frequency[word] = word_frequency.get(word, 0) + 1\n",
    "\n",
    "print(\"\\nWord Frequencies:\")\n",
    "for word, count in word_frequency.items():\n",
    "    print(f\"{word}: {count}\")\n"
   ]
  },
  {
   "cell_type": "code",
   "execution_count": null,
   "id": "9718676c",
   "metadata": {},
   "outputs": [],
   "source": []
  }
 ],
 "metadata": {
  "kernelspec": {
   "display_name": "Python 3 (ipykernel)",
   "language": "python",
   "name": "python3"
  },
  "language_info": {
   "codemirror_mode": {
    "name": "ipython",
    "version": 3
   },
   "file_extension": ".py",
   "mimetype": "text/x-python",
   "name": "python",
   "nbconvert_exporter": "python",
   "pygments_lexer": "ipython3",
   "version": "3.11.4"
  }
 },
 "nbformat": 4,
 "nbformat_minor": 5
}
