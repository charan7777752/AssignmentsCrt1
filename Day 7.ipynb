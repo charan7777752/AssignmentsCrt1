{
 "cells": [
  {
   "cell_type": "code",
   "execution_count": 5,
   "id": "fbbe826e",
   "metadata": {},
   "outputs": [
    {
     "name": "stderr",
     "output_type": "stream",
     "text": [
      "[nltk_data] Downloading package stopwords to\n",
      "[nltk_data]     C:\\Users\\bobby\\AppData\\Roaming\\nltk_data...\n",
      "[nltk_data]   Package stopwords is already up-to-date!\n"
     ]
    },
    {
     "name": "stdout",
     "output_type": "stream",
     "text": [
      "Enter a text: hi\n",
      "\n",
      "Text after converting to lowercase:\n",
      "hi\n",
      "\n",
      "Text after removing stopwords:\n",
      "hi\n"
     ]
    }
   ],
   "source": [
    "import nltk\n",
    "from nltk.corpus import stopwords\n",
    "import spacy\n",
    "\n",
    "# Download NLTK stopwords\n",
    "nltk.download('stopwords')\n",
    "\n",
    "# Load spaCy's English model\n",
    "nlp = spacy.load(\"en_core_web_sm\")\n",
    "\n",
    "# Input text\n",
    "text = input(\"Enter a text: \")\n",
    "\n",
    "# Convert text to lowercase using spaCy\n",
    "doc = nlp(text)\n",
    "lowercase_text = \" \".join([token.text.lower() for token in doc])\n",
    "\n",
    "print(\"\\nText after converting to lowercase:\")\n",
    "print(lowercase_text)\n",
    "\n",
    "# Remove stopwords using NLTK\n",
    "stop_words = set(stopwords.words('english'))\n",
    "filtered_words = [word for word in lowercase_text.split() if word not in stop_words]\n",
    "\n",
    "print(\"\\nText after removing stopwords:\")\n",
    "print(\" \".join(filtered_words))\n"
   ]
  },
  {
   "cell_type": "code",
   "execution_count": null,
   "id": "47d00eee",
   "metadata": {},
   "outputs": [],
   "source": []
  }
 ],
 "metadata": {
  "kernelspec": {
   "display_name": "Python 3 (ipykernel)",
   "language": "python",
   "name": "python3"
  },
  "language_info": {
   "codemirror_mode": {
    "name": "ipython",
    "version": 3
   },
   "file_extension": ".py",
   "mimetype": "text/x-python",
   "name": "python",
   "nbconvert_exporter": "python",
   "pygments_lexer": "ipython3",
   "version": "3.11.4"
  }
 },
 "nbformat": 4,
 "nbformat_minor": 5
}
